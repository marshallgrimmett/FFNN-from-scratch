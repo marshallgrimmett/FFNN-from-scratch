{
 "cells": [
  {
   "cell_type": "code",
   "execution_count": 80,
   "metadata": {},
   "outputs": [],
   "source": [
    "import numpy as np\n",
    "import pandas as pd"
   ]
  },
  {
   "cell_type": "code",
   "execution_count": 81,
   "metadata": {},
   "outputs": [],
   "source": [
    "# Print values of weights and nodes\n",
    "def printValues(do, dh, bo, bh, wo, wh, z, o):\n",
    "    print('do')\n",
    "    print(do)\n",
    "    print('\\ndh')\n",
    "    print(dh)\n",
    "    print('\\nbo')\n",
    "    print(bo)\n",
    "    print('\\nbh')\n",
    "    print(bh)\n",
    "    print('\\nwo')\n",
    "    print(wo)\n",
    "    print('\\nwh')\n",
    "    print(wh)\n",
    "    print('\\nz')\n",
    "    print(z)\n",
    "    print('\\no')\n",
    "    print(o)"
   ]
  },
  {
   "cell_type": "code",
   "execution_count": 82,
   "metadata": {},
   "outputs": [],
   "source": [
    "# Activation Function: Sigmoid function\n",
    "def f(net):\n",
    "    return 1 / (1 + np.exp(-net))"
   ]
  },
  {
   "cell_type": "code",
   "execution_count": 83,
   "metadata": {},
   "outputs": [],
   "source": [
    "# Sample input data\n",
    "x = np.matrix('.9,.8; .5,.6; .7,.7; .6,.5').T\n",
    "y = np.matrix('.95; .5; .75; .5').T"
   ]
  },
  {
   "cell_type": "code",
   "execution_count": 84,
   "metadata": {},
   "outputs": [
    {
     "data": {
      "text/html": [
       "<div>\n",
       "<style scoped>\n",
       "    .dataframe tbody tr th:only-of-type {\n",
       "        vertical-align: middle;\n",
       "    }\n",
       "\n",
       "    .dataframe tbody tr th {\n",
       "        vertical-align: top;\n",
       "    }\n",
       "\n",
       "    .dataframe thead th {\n",
       "        text-align: right;\n",
       "    }\n",
       "</style>\n",
       "<table border=\"1\" class=\"dataframe\">\n",
       "  <thead>\n",
       "    <tr style=\"text-align: right;\">\n",
       "      <th></th>\n",
       "      <th>Feature 1</th>\n",
       "      <th>Feature 2</th>\n",
       "      <th>Target</th>\n",
       "    </tr>\n",
       "  </thead>\n",
       "  <tbody>\n",
       "    <tr>\n",
       "      <th>0</th>\n",
       "      <td>0.9</td>\n",
       "      <td>0.8</td>\n",
       "      <td>0.95</td>\n",
       "    </tr>\n",
       "    <tr>\n",
       "      <th>1</th>\n",
       "      <td>0.5</td>\n",
       "      <td>0.6</td>\n",
       "      <td>0.50</td>\n",
       "    </tr>\n",
       "    <tr>\n",
       "      <th>2</th>\n",
       "      <td>0.7</td>\n",
       "      <td>0.7</td>\n",
       "      <td>0.75</td>\n",
       "    </tr>\n",
       "    <tr>\n",
       "      <th>3</th>\n",
       "      <td>0.6</td>\n",
       "      <td>0.5</td>\n",
       "      <td>0.50</td>\n",
       "    </tr>\n",
       "  </tbody>\n",
       "</table>\n",
       "</div>"
      ],
      "text/plain": [
       "   Feature 1  Feature 2  Target\n",
       "0        0.9        0.8    0.95\n",
       "1        0.5        0.6    0.50\n",
       "2        0.7        0.7    0.75\n",
       "3        0.6        0.5    0.50"
      ]
     },
     "execution_count": 84,
     "metadata": {},
     "output_type": "execute_result"
    }
   ],
   "source": [
    "# Visualization of dataset\n",
    "d = {'Feature 1': x[0].tolist()[0], 'Feature 2': x[1].tolist()[0], 'Target': y[0].tolist()[0]}\n",
    "pd.DataFrame(data=d)"
   ]
  },
  {
   "attachments": {
    "8d57af1f-acb9-475c-81d9-280e81a4fa19.png": {
     "image/png": "[encoded data removed]"
    }
   },
   "cell_type": "markdown",
   "metadata": {},
   "source": [
    "![ffnn.png](attachment:8d57af1f-acb9-475c-81d9-280e81a4fa19.png)"
   ]
  },
  {
   "cell_type": "code",
   "execution_count": 85,
   "metadata": {},
   "outputs": [],
   "source": [
    "# Hidden layer with 2 nodes\n",
    "z = np.matrix('0,0').T\n",
    "\n",
    "# Output layer with 1 node\n",
    "o = 0\n",
    "\n",
    "# Weights of bias hidden and output layer\n",
    "bh = np.matrix('0,0').T\n",
    "bo = 0\n",
    "\n",
    "# Weights of input hidden and output layer\n",
    "wh = np.matrix('0,0;0,0')\n",
    "wo = np.matrix('0,0').T\n",
    "\n",
    "# Number of iterations to train the data\n",
    "numEpochs = 1000\n",
    "\n",
    "# Number of data points in the dataset\n",
    "numRows = 4\n",
    "\n",
    "for epoch in range(numEpochs):\n",
    "    for i in range(numRows):\n",
    "        \n",
    "        # Feed forward: compute the hidden layer nodes and output node\n",
    "        z = f(bh + np.dot(wh.T, x[:,i]))\n",
    "        o = f(bo + np.dot(wo.T, z))\n",
    "\n",
    "        # Back propogation: Use Gradient Descent to update weights and bias\n",
    "        \n",
    "        # Use Delta Rule to compute the derivatives.\n",
    "        do = o*(1-o)*(o-y[:,i])\n",
    "        dh = np.dot(z.T, (1-z))[0,0]*(wo*do)\n",
    "\n",
    "        # Update the bias\n",
    "        bo = bo - do\n",
    "        bh = bh - dh\n",
    "\n",
    "        # Update the weights\n",
    "        wo = wo - z*do\n",
    "        wh = wh - np.dot(x[:,i], dh.T)\n",
    "\n",
    "#         print('\\n################### Epoch: ' + str(epoch) + ' ###################')\n",
    "#         print('################ Data row: ' + str(i) + ' ###################\\n')\n",
    "#         printValues(do, dh, bo, bh, wo, wh, z, o)"
   ]
  },
  {
   "cell_type": "code",
   "execution_count": 86,
   "metadata": {},
   "outputs": [
    {
     "name": "stdout",
     "output_type": "stream",
     "text": [
      "Predicted values\n",
      "[[0.91257149]]\n",
      "[[0.48217235]]\n",
      "[[0.75811796]]\n",
      "[[0.51086033]]\n",
      "\n",
      "Actual values\n",
      "[[0.95]\n",
      " [0.5 ]\n",
      " [0.75]\n",
      " [0.5 ]]\n"
     ]
    }
   ],
   "source": [
    "# Test the model\n",
    "print('Predicted values')\n",
    "for i in range(numRows):\n",
    "        z = f(bh + np.dot(wh.T, x[:,i]))\n",
    "        o = f(bo + np.dot(wo.T, z))\n",
    "        print(o)\n",
    "\n",
    "print('\\nActual values')\n",
    "print(y.T)"
   ]
  },
  {
   "cell_type": "code",
   "execution_count": null,
   "metadata": {},
   "outputs": [],
   "source": []
  }
 ],
 "metadata": {
  "kernelspec": {
   "display_name": "Python 3",
   "language": "python",
   "name": "python3"
  },
  "language_info": {
   "codemirror_mode": {
    "name": "ipython",
    "version": 3
   },
   "file_extension": ".py",
   "mimetype": "text/x-python",
   "name": "python",
   "nbconvert_exporter": "python",
   "pygments_lexer": "ipython3",
   "version": "3.8.5"
  }
 },
 "nbformat": 4,
 "nbformat_minor": 4
}
